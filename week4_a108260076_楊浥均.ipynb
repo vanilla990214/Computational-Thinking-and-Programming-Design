{
  "nbformat": 4,
  "nbformat_minor": 0,
  "metadata": {
    "colab": {
      "name": "week4-a108260076-楊浥均.ipynb",
      "provenance": [],
      "include_colab_link": true
    },
    "kernelspec": {
      "name": "python3",
      "display_name": "Python 3"
    }
  },
  "cells": [
    {
      "cell_type": "markdown",
      "metadata": {
        "id": "view-in-github",
        "colab_type": "text"
      },
      "source": [
        "<a href=\"https://colab.research.google.com/github/vanilla990214/Computational-Thinking-and-Programming-Design/blob/master/week4_a108260076_%E6%A5%8A%E6%B5%A5%E5%9D%87.ipynb\" target=\"_parent\"><img src=\"https://colab.research.google.com/assets/colab-badge.svg\" alt=\"Open In Colab\"/></a>"
      ]
    },
    {
      "cell_type": "code",
      "metadata": {
        "id": "Lk7Wv8tsEMEV",
        "colab_type": "code",
        "outputId": "d4e976ab-1c4d-44b5-8740-efe2859e1594",
        "colab": {
          "base_uri": "https://localhost:8080/",
          "height": 167
        }
      },
      "source": [
        "print(a)"
      ],
      "execution_count": 0,
      "outputs": [
        {
          "output_type": "error",
          "ename": "NameError",
          "evalue": "ignored",
          "traceback": [
            "\u001b[0;31m---------------------------------------------------------------------------\u001b[0m",
            "\u001b[0;31mNameError\u001b[0m                                 Traceback (most recent call last)",
            "\u001b[0;32m<ipython-input-1-bca0e2660b9f>\u001b[0m in \u001b[0;36m<module>\u001b[0;34m()\u001b[0m\n\u001b[0;32m----> 1\u001b[0;31m \u001b[0mprint\u001b[0m\u001b[0;34m(\u001b[0m\u001b[0ma\u001b[0m\u001b[0;34m)\u001b[0m\u001b[0;34m\u001b[0m\u001b[0;34m\u001b[0m\u001b[0m\n\u001b[0m",
            "\u001b[0;31mNameError\u001b[0m: name 'a' is not defined"
          ]
        }
      ]
    },
    {
      "cell_type": "code",
      "metadata": {
        "id": "2oEDlzCZEq9L",
        "colab_type": "code",
        "outputId": "09b843f8-69f7-4148-a1b1-8ed8e41282bb",
        "colab": {
          "base_uri": "https://localhost:8080/",
          "height": 34
        }
      },
      "source": [
        "a=1\n",
        "a"
      ],
      "execution_count": 0,
      "outputs": [
        {
          "output_type": "execute_result",
          "data": {
            "text/plain": [
              "1"
            ]
          },
          "metadata": {
            "tags": []
          },
          "execution_count": 2
        }
      ]
    },
    {
      "cell_type": "code",
      "metadata": {
        "id": "vYtBjdIbFGAZ",
        "colab_type": "code",
        "colab": {}
      },
      "source": [
        "a=\"python\""
      ],
      "execution_count": 0,
      "outputs": []
    },
    {
      "cell_type": "code",
      "metadata": {
        "id": "aXhaiLJhGTat",
        "colab_type": "code",
        "outputId": "bd237a23-dc04-47f3-da6e-c52143eb61f0",
        "colab": {
          "base_uri": "https://localhost:8080/",
          "height": 34
        }
      },
      "source": [
        "a"
      ],
      "execution_count": 0,
      "outputs": [
        {
          "output_type": "execute_result",
          "data": {
            "text/plain": [
              "'python'"
            ]
          },
          "metadata": {
            "tags": []
          },
          "execution_count": 4
        }
      ]
    },
    {
      "cell_type": "code",
      "metadata": {
        "id": "oX2QxlG1lwYt",
        "colab_type": "code",
        "colab": {}
      },
      "source": [
        "a=123\n",
        "b=123.456\n",
        "c=\"Python\"\n",
        "d=False"
      ],
      "execution_count": 0,
      "outputs": []
    },
    {
      "cell_type": "code",
      "metadata": {
        "id": "Vm-X7-DZGZfJ",
        "colab_type": "code",
        "outputId": "4bf114f5-d8e1-4bca-82d9-791708abe1dc",
        "colab": {
          "base_uri": "https://localhost:8080/",
          "height": 52
        }
      },
      "source": [
        "a=1\n",
        "print(a, id(a))\n",
        "b=\"Python\"\n",
        "print(b, id(b))"
      ],
      "execution_count": 2,
      "outputs": [
        {
          "output_type": "stream",
          "text": [
            "1 10968800\n",
            "Python 140520208534584\n"
          ],
          "name": "stdout"
        }
      ]
    },
    {
      "cell_type": "code",
      "metadata": {
        "id": "yOD22Y93GhdH",
        "colab_type": "code",
        "outputId": "f8855395-8a2a-4bec-97da-0bebcf18a952",
        "colab": {
          "base_uri": "https://localhost:8080/",
          "height": 35
        }
      },
      "source": [
        "\n",
        "x=1\n",
        "y=2\n",
        "print(id(x), id(y))"
      ],
      "execution_count": 4,
      "outputs": [
        {
          "output_type": "stream",
          "text": [
            "10968800 10968832\n"
          ],
          "name": "stdout"
        }
      ]
    },
    {
      "cell_type": "code",
      "metadata": {
        "id": "b0dTnVLJHUPM",
        "colab_type": "code",
        "outputId": "dc0d34dd-48a3-40d9-fce1-8a697622fcbe",
        "colab": {
          "base_uri": "https://localhost:8080/",
          "height": 35
        }
      },
      "source": [
        "z=1\n",
        "print(id(x), id(z))"
      ],
      "execution_count": 5,
      "outputs": [
        {
          "output_type": "stream",
          "text": [
            "10968800 10968800\n"
          ],
          "name": "stdout"
        }
      ]
    },
    {
      "cell_type": "code",
      "metadata": {
        "id": "YWJJ7JkRHYES",
        "colab_type": "code",
        "outputId": "7d5b92fc-bf10-4632-af25-7f47718f0233",
        "colab": {
          "base_uri": "https://localhost:8080/",
          "height": 208
        }
      },
      "source": [
        "print(False)\n",
        "print(True)\n",
        "print(False+3)\n",
        "print(True+3)\n",
        "print(False==0)\n",
        "print(True==1)\n",
        "\n",
        "print(False, type(False))\n",
        "print(True+1, type(True+1))\n",
        "\n",
        "print(bool(1))\n",
        "print(bool(0))\n",
        "print(bool(()))"
      ],
      "execution_count": 11,
      "outputs": [
        {
          "output_type": "stream",
          "text": [
            "False\n",
            "True\n",
            "3\n",
            "4\n",
            "True\n",
            "True\n",
            "False <class 'bool'>\n",
            "2 <class 'int'>\n",
            "True\n",
            "False\n",
            "False\n"
          ],
          "name": "stdout"
        }
      ]
    },
    {
      "cell_type": "code",
      "metadata": {
        "id": "Ma8U1LZ_nry8",
        "colab_type": "code",
        "colab": {
          "base_uri": "https://localhost:8080/",
          "height": 52
        },
        "outputId": "485d606b-2528-4d78-cad4-fb452e0ead48"
      },
      "source": [
        "a = 100\n",
        "b = 100.001\n",
        "print(type(100))\n",
        "print(type(100.001))\n"
      ],
      "execution_count": 13,
      "outputs": [
        {
          "output_type": "stream",
          "text": [
            "<class 'int'>\n",
            "<class 'float'>\n"
          ],
          "name": "stdout"
        }
      ]
    },
    {
      "cell_type": "code",
      "metadata": {
        "id": "J3xZ_aZnn3AK",
        "colab_type": "code",
        "colab": {
          "base_uri": "https://localhost:8080/",
          "height": 52
        },
        "outputId": "d0ea0626-3fa6-4147-f13a-a58e9e97de0f"
      },
      "source": [
        "print(int(100))\n",
        "print(float(100.001))\n"
      ],
      "execution_count": 14,
      "outputs": [
        {
          "output_type": "stream",
          "text": [
            "100\n",
            "100.001\n"
          ],
          "name": "stdout"
        }
      ]
    },
    {
      "cell_type": "code",
      "metadata": {
        "id": "OTuLm2waHnC0",
        "colab_type": "code",
        "outputId": "bbcd766e-a8e6-41d6-a81d-b53d27b0237e",
        "colab": {
          "base_uri": "https://localhost:8080/",
          "height": 34
        }
      },
      "source": [
        "0.1+0.1+0.1"
      ],
      "execution_count": 0,
      "outputs": [
        {
          "output_type": "execute_result",
          "data": {
            "text/plain": [
              "0.30000000000000004"
            ]
          },
          "metadata": {
            "tags": []
          },
          "execution_count": 10
        }
      ]
    },
    {
      "cell_type": "code",
      "metadata": {
        "id": "3EbZfBwon8LG",
        "colab_type": "code",
        "colab": {
          "base_uri": "https://localhost:8080/",
          "height": 156
        },
        "outputId": "6ca993e2-13af-4304-c55c-d867c45c5b34"
      },
      "source": [
        "s1 = '春眠不覺曉，處處聞啼鳥。'\n",
        "print(s1)\n",
        "\n",
        "s2 = \"夜來風雨聲，花落知多少。\"\n",
        "print(s2)\n",
        "\n",
        "s3 = '作者\"孟浩然\" 詩名\"春曉\"'\n",
        "print(s3)\n",
        "\n",
        "s4 = \"作者'孟浩然' 詩名'春曉'\"\n",
        "print(s4)\n",
        "\n",
        "s5 = '''    春眠不覺曉，處處聞啼鳥。\n",
        "    夜來風雨聲，花落知多少。\n",
        "    作者\"孟浩然\" 詩名\"春曉\"\n",
        "'''\n",
        "print(s5)"
      ],
      "execution_count": 15,
      "outputs": [
        {
          "output_type": "stream",
          "text": [
            "春眠不覺曉，處處聞啼鳥。\n",
            "夜來風雨聲，花落知多少。\n",
            "作者\"孟浩然\" 詩名\"春曉\"\n",
            "作者'孟浩然' 詩名'春曉'\n",
            "    春眠不覺曉，處處聞啼鳥。\n",
            "    夜來風雨聲，花落知多少。\n",
            "    作者\"孟浩然\" 詩名\"春曉\"\n",
            "\n"
          ],
          "name": "stdout"
        }
      ]
    },
    {
      "cell_type": "code",
      "metadata": {
        "id": "gLFGcxIhoBD_",
        "colab_type": "code",
        "colab": {
          "base_uri": "https://localhost:8080/",
          "height": 69
        },
        "outputId": "4b23be62-edd0-4ef2-a370-7cbd73c3cac8"
      },
      "source": [
        "a = 123\n",
        "b = 123.456\n",
        "\n",
        "print(a)\n",
        "\n",
        "print(\"b=\", b)\n",
        "\n",
        "print(a, b, end = '.')"
      ],
      "execution_count": 16,
      "outputs": [
        {
          "output_type": "stream",
          "text": [
            "123\n",
            "b= 123.456\n",
            "123 123.456."
          ],
          "name": "stdout"
        }
      ]
    },
    {
      "cell_type": "code",
      "metadata": {
        "id": "oO1dSeHGoF43",
        "colab_type": "code",
        "colab": {
          "base_uri": "https://localhost:8080/",
          "height": 87
        },
        "outputId": "94c4f67b-74a0-4daf-f394-93a2204f54bf"
      },
      "source": [
        "print(\"vanilla990214\")\n",
        "\n",
        "print(\"vanilla \\n 990214\") \n",
        "\n",
        "print(\"vanilla \\t 990214\")"
      ],
      "execution_count": 17,
      "outputs": [
        {
          "output_type": "stream",
          "text": [
            "vanilla990214\n",
            "vanilla \n",
            " 990214\n",
            "vanilla \t 990214\n"
          ],
          "name": "stdout"
        }
      ]
    },
    {
      "cell_type": "code",
      "metadata": {
        "id": "3BZBvXTaoVoP",
        "colab_type": "code",
        "colab": {
          "base_uri": "https://localhost:8080/",
          "height": 52
        },
        "outputId": "fad8ebb7-0a09-46cc-c7fa-d9222453fd68"
      },
      "source": [
        "s = input()\n",
        "s\n"
      ],
      "execution_count": 18,
      "outputs": [
        {
          "output_type": "stream",
          "text": [
            "vanilla990214\n"
          ],
          "name": "stdout"
        },
        {
          "output_type": "execute_result",
          "data": {
            "text/plain": [
              "'vanilla990214'"
            ]
          },
          "metadata": {
            "tags": []
          },
          "execution_count": 18
        }
      ]
    },
    {
      "cell_type": "code",
      "metadata": {
        "id": "dllGsQ5womep",
        "colab_type": "code",
        "colab": {
          "base_uri": "https://localhost:8080/",
          "height": 52
        },
        "outputId": "54e3caae-14f5-4b2c-9529-6f1a1711bcc1"
      },
      "source": [
        "s = input (\"Enter Your Name\")\n",
        "print(\"Hi,\", s)"
      ],
      "execution_count": 20,
      "outputs": [
        {
          "output_type": "stream",
          "text": [
            "Enter Your Namevanilla990214\n",
            "Hi, vanilla990214\n"
          ],
          "name": "stdout"
        }
      ]
    },
    {
      "cell_type": "code",
      "metadata": {
        "id": "5EdAgpsuo3EZ",
        "colab_type": "code",
        "colab": {
          "base_uri": "https://localhost:8080/",
          "height": 201
        },
        "outputId": "2b0068ce-595d-4d14-9e06-193b4fe87255"
      },
      "source": [
        "s = input (\"Enter Your Number:\")\n",
        "print(s+100)"
      ],
      "execution_count": 23,
      "outputs": [
        {
          "output_type": "stream",
          "text": [
            "Enter Your Number:123\n"
          ],
          "name": "stdout"
        },
        {
          "output_type": "error",
          "ename": "TypeError",
          "evalue": "ignored",
          "traceback": [
            "\u001b[0;31m---------------------------------------------------------------------------\u001b[0m",
            "\u001b[0;31mTypeError\u001b[0m                                 Traceback (most recent call last)",
            "\u001b[0;32m<ipython-input-23-1a730fa1c753>\u001b[0m in \u001b[0;36m<module>\u001b[0;34m()\u001b[0m\n\u001b[1;32m      1\u001b[0m \u001b[0ms\u001b[0m \u001b[0;34m=\u001b[0m \u001b[0minput\u001b[0m \u001b[0;34m(\u001b[0m\u001b[0;34m\"Enter Your Number:\"\u001b[0m\u001b[0;34m)\u001b[0m\u001b[0;34m\u001b[0m\u001b[0;34m\u001b[0m\u001b[0m\n\u001b[0;32m----> 2\u001b[0;31m \u001b[0mprint\u001b[0m\u001b[0;34m(\u001b[0m\u001b[0ms\u001b[0m\u001b[0;34m+\u001b[0m\u001b[0;36m100\u001b[0m\u001b[0;34m)\u001b[0m\u001b[0;34m\u001b[0m\u001b[0;34m\u001b[0m\u001b[0m\n\u001b[0m",
            "\u001b[0;31mTypeError\u001b[0m: must be str, not int"
          ]
        }
      ]
    },
    {
      "cell_type": "code",
      "metadata": {
        "id": "VdAF0ojJpHq1",
        "colab_type": "code",
        "colab": {
          "base_uri": "https://localhost:8080/",
          "height": 156
        },
        "outputId": "b8912935-0a76-426a-b627-fd9dfa23873e"
      },
      "source": [
        "s = int(input(\"Enter Your Number:\"))\n",
        "print(100 + s)\n",
        "\n",
        "s = float(input(\"Enter Your Number:\"))\n",
        "print(100 + s)\n",
        "\n",
        "s = eval(input(\"Enter Your Number:\"))\n",
        "print(100 + s)\n",
        "\n",
        "s = eval(input(\"Enter Your Number:\"))\n",
        "print(100 + s)"
      ],
      "execution_count": 24,
      "outputs": [
        {
          "output_type": "stream",
          "text": [
            "Enter Your Number:123\n",
            "223\n",
            "Enter Your Number:123\n",
            "223.0\n",
            "Enter Your Number:123\n",
            "223\n",
            "Enter Your Number:123\n",
            "223\n"
          ],
          "name": "stdout"
        }
      ]
    },
    {
      "cell_type": "code",
      "metadata": {
        "id": "PI0jFwddpU3Y",
        "colab_type": "code",
        "colab": {}
      },
      "source": [
        "a = 1 + 2\n",
        "\n"
      ],
      "execution_count": 0,
      "outputs": []
    },
    {
      "cell_type": "code",
      "metadata": {
        "id": "Fv_K3VmPpXAo",
        "colab_type": "code",
        "colab": {
          "base_uri": "https://localhost:8080/",
          "height": 121
        },
        "outputId": "21a8c962-319d-4e0e-9cbb-8c7e73ffb46f"
      },
      "source": [
        "print (5<2)\n",
        "print (5<=2)\n",
        "print (5>2)\n",
        "print(5>=2)\n",
        "print(5!=2)\n",
        "print(5==2)"
      ],
      "execution_count": 26,
      "outputs": [
        {
          "output_type": "stream",
          "text": [
            "False\n",
            "False\n",
            "True\n",
            "True\n",
            "True\n",
            "False\n"
          ],
          "name": "stdout"
        }
      ]
    },
    {
      "cell_type": "code",
      "metadata": {
        "id": "eNNjJO7Upc5e",
        "colab_type": "code",
        "colab": {
          "base_uri": "https://localhost:8080/",
          "height": 69
        },
        "outputId": "24ad5d01-6a8e-48f1-e97a-cf6ac91d5ab8"
      },
      "source": [
        "X = 70\n",
        "print((X>60) and (X<80))\n",
        "print((X>60) or (X<80))\n",
        "print(not(X>60))\n",
        "\n"
      ],
      "execution_count": 27,
      "outputs": [
        {
          "output_type": "stream",
          "text": [
            "True\n",
            "True\n",
            "False\n"
          ],
          "name": "stdout"
        }
      ]
    },
    {
      "cell_type": "code",
      "metadata": {
        "id": "_Pn4AA9Hpffz",
        "colab_type": "code",
        "colab": {
          "base_uri": "https://localhost:8080/",
          "height": 104
        },
        "outputId": "0241d326-dcff-4751-c247-b8990aed975a"
      },
      "source": [
        "x = 1\n",
        "y = [1,2,3]\n",
        "\n",
        "print(x in y)\n",
        "print( x not in y)\n",
        "\n",
        "x = [1,2,3]\n",
        "y = [1,2,3]\n",
        "\n",
        "print(id(x), id(y)) \n",
        "\n",
        "print(x is y) \n",
        "print(x is not y)"
      ],
      "execution_count": 28,
      "outputs": [
        {
          "output_type": "stream",
          "text": [
            "True\n",
            "False\n",
            "140519646427464 140519646428232\n",
            "False\n",
            "True\n"
          ],
          "name": "stdout"
        }
      ]
    },
    {
      "cell_type": "code",
      "metadata": {
        "id": "eHLqfZ7xplF2",
        "colab_type": "code",
        "colab": {
          "base_uri": "https://localhost:8080/",
          "height": 139
        },
        "outputId": "6f7e3e5e-8369-49f7-944c-9d80e5cd42e8"
      },
      "source": [
        "print(5 + 2) \n",
        "print(5 - 2) \n",
        "print(5 * 2)\n",
        "print(5 / 2) \n",
        "print(5 // 2) \n",
        "print(5 % 2)  \n",
        "print(5 ** 2) "
      ],
      "execution_count": 29,
      "outputs": [
        {
          "output_type": "stream",
          "text": [
            "7\n",
            "3\n",
            "10\n",
            "2.5\n",
            "2\n",
            "1\n",
            "25\n"
          ],
          "name": "stdout"
        }
      ]
    },
    {
      "cell_type": "code",
      "metadata": {
        "id": "XUYpL4qNpr-W",
        "colab_type": "code",
        "colab": {
          "base_uri": "https://localhost:8080/",
          "height": 156
        },
        "outputId": "10b0f075-9f0e-42e1-963f-fec735c17001"
      },
      "source": [
        "a = 5\n",
        "a = a + 2\n",
        "print(a)\n",
        "\n",
        "a+=2  #a = a + 2\n",
        "print(a)\n",
        "\n",
        "a-=2  #a = a - 2\n",
        "print(a)\n",
        "\n",
        "a*=2 #a = a * 2\n",
        "print(a)\n",
        "\n",
        "a/=2 # a = a / 2\n",
        "print(a)\n",
        "\n",
        "a//=2 # a = a // 2\n",
        "print(a)\n",
        "\n",
        "a%=2 # a = a % 2\n",
        "print(a)\n",
        "\n",
        "a**=2 #a = a**2\n",
        "print(a)"
      ],
      "execution_count": 30,
      "outputs": [
        {
          "output_type": "stream",
          "text": [
            "7\n",
            "9\n",
            "7\n",
            "14\n",
            "7.0\n",
            "3.0\n",
            "1.0\n",
            "1.0\n"
          ],
          "name": "stdout"
        }
      ]
    },
    {
      "cell_type": "code",
      "metadata": {
        "id": "6C7VmIYWpsJ4",
        "colab_type": "code",
        "colab": {
          "base_uri": "https://localhost:8080/",
          "height": 104
        },
        "outputId": "9195acad-68e5-4e49-d7e3-dc2faf1ce5c4"
      },
      "source": [
        "s1 =\"123\"\n",
        "s2 = \"456\"\n",
        "s3 = s1+s2\n",
        "print(s3)\n",
        "\n",
        "s4 = s1*2\n",
        "print(s4)\n",
        "\n",
        "\n",
        "s5 = '春眠不覺曉，處處聞啼鳥。\\n\\\n",
        "夜來風雨聲，花落知多少。\\n\\\n",
        "\\t作者\"孟浩然\" 詩名\"春曉\"'\n",
        "print(s5)"
      ],
      "execution_count": 31,
      "outputs": [
        {
          "output_type": "stream",
          "text": [
            "123456\n",
            "123123\n",
            "春眠不覺曉，處處聞啼鳥。\n",
            "夜來風雨聲，花落知多少。\n",
            "\t作者\"孟浩然\" 詩名\"春曉\"\n"
          ],
          "name": "stdout"
        }
      ]
    },
    {
      "cell_type": "code",
      "metadata": {
        "id": "U2hx2cHEpsWG",
        "colab_type": "code",
        "colab": {
          "base_uri": "https://localhost:8080/",
          "height": 364
        },
        "outputId": "1dc5cfba-9972-4df0-9a9a-8334d1557e92"
      },
      "source": [
        "s = '123456789'\n",
        "print(s[0]) \n",
        "print(s[1]) \n",
        "print(s[-1]) \n",
        "print(s[-2])\n",
        "\n",
        "\n",
        "s = '0123456789'\n",
        "\n",
        "print('s=', s)\n",
        "print('s[0]=', s[0])\n",
        "print('s[1]=', s[1])\n",
        "print('s[-1]=', s[-1])\n",
        "print('s[-2]=', s[-2])\n",
        "\n",
        "print('s=', s, 's[:]=', s[:]) \n",
        "print('s=', s, 's[5:]=', s[5:]) \n",
        "print('s=', s, 's[-2:]=', s[-2:])\n",
        "print('s=', s, 's[:5]=', s[:5]) \n",
        "print('s=', s, 's[:-2]=', s[:-2])\n",
        "print('s=', s, 's[7:9]=', s[7:9])\n",
        "print('s=', s, 's[-4:-1]=', s[-4:-1])\n",
        "print('s=', s, 's[5:-2]=', s[5:-2])\n",
        "print('s=', s, 's[2:10:2]=', s[2:10:2]) \n",
        "print('s=', s, 's[::-1]=', s[::-1])\n",
        "print('s=', s, 's[-1::-1]=', s[-1::-1])"
      ],
      "execution_count": 32,
      "outputs": [
        {
          "output_type": "stream",
          "text": [
            "1\n",
            "2\n",
            "9\n",
            "8\n",
            "s= 0123456789\n",
            "s[0]= 0\n",
            "s[1]= 1\n",
            "s[-1]= 9\n",
            "s[-2]= 8\n",
            "s= 0123456789 s[:]= 0123456789\n",
            "s= 0123456789 s[5:]= 56789\n",
            "s= 0123456789 s[-2:]= 89\n",
            "s= 0123456789 s[:5]= 01234\n",
            "s= 0123456789 s[:-2]= 01234567\n",
            "s= 0123456789 s[7:9]= 78\n",
            "s= 0123456789 s[-4:-1]= 678\n",
            "s= 0123456789 s[5:-2]= 567\n",
            "s= 0123456789 s[2:10:2]= 2468\n",
            "s= 0123456789 s[::-1]= 9876543210\n",
            "s= 0123456789 s[-1::-1]= 9876543210\n"
          ],
          "name": "stdout"
        }
      ]
    },
    {
      "cell_type": "code",
      "metadata": {
        "id": "_rLhNuQLqA77",
        "colab_type": "code",
        "colab": {
          "base_uri": "https://localhost:8080/",
          "height": 139
        },
        "outputId": "031f22bc-240c-4124-b055-08f0d4660ed9"
      },
      "source": [
        "a = -2\n",
        "print(abs(a)) \n",
        "print(abs(-10))\n",
        "\n",
        "print(max(1,2,3,4,5)) \n",
        "print(min(1,2,3,4,5)) \n",
        "\n",
        "print(pow(2,3)) \n",
        "\n",
        "print(round(5.8))\n",
        "print(round(3.14159,2)) "
      ],
      "execution_count": 33,
      "outputs": [
        {
          "output_type": "stream",
          "text": [
            "2\n",
            "10\n",
            "5\n",
            "1\n",
            "8\n",
            "6\n",
            "3.14\n"
          ],
          "name": "stdout"
        }
      ]
    },
    {
      "cell_type": "code",
      "metadata": {
        "id": "3CGCzWbwqBDk",
        "colab_type": "code",
        "colab": {
          "base_uri": "https://localhost:8080/",
          "height": 69
        },
        "outputId": "1b997dad-3b3f-4875-a4cc-e77325e34260"
      },
      "source": [
        "s = '春眠不覺曉，處處聞啼鳥，夜來風雨聲，花落知多少。'\n",
        "print(len(s))\n",
        "\n",
        "s1='春眠不覺曉，處處聞啼鳥，夜來風雨聲，花落知多少。'\n",
        "list1=s1.split('，') #以逗號，分割字串\n",
        "print(list1)\n",
        "\n",
        "list1 = ['春眠不覺曉','處處聞啼鳥','夜來風雨聲','花落知多少。']\n",
        "s2='，'.join(list1) #以逗號，連接字串\n",
        "print(s2)"
      ],
      "execution_count": 34,
      "outputs": [
        {
          "output_type": "stream",
          "text": [
            "24\n",
            "['春眠不覺曉', '處處聞啼鳥', '夜來風雨聲', '花落知多少。']\n",
            "春眠不覺曉，處處聞啼鳥，夜來風雨聲，花落知多少。\n"
          ],
          "name": "stdout"
        }
      ]
    },
    {
      "cell_type": "code",
      "metadata": {
        "id": "3RvDX12QIwex",
        "colab_type": "code",
        "outputId": "74524f22-8e3d-4474-97e9-7e2f0a39ee20",
        "colab": {
          "base_uri": "https://localhost:8080/",
          "height": 156
        }
      },
      "source": [
        "s1='春眠不覺曉，處處聞啼鳥，夜來風雨聲，花落知多少。'\n",
        "s3=s1.replace('春','冬') \n",
        "\n",
        "print(s3)\n",
        "\n",
        "s1='春眠不覺曉，處處聞啼鳥，夜來風雨聲，花落知多少。'\n",
        "\n",
        "print(s1.find('花落')) \n",
        "print(s1.count('處')) \n",
        "\n",
        "s1='An apple a day.'\n",
        "print(s1.capitalize())\n",
        "print(s1.title())\n",
        "print(s1.swapcase())\n",
        "print(s1.upper())\n",
        "print(s1.lower())"
      ],
      "execution_count": 35,
      "outputs": [
        {
          "output_type": "stream",
          "text": [
            "冬眠不覺曉，處處聞啼鳥，夜來風雨聲，花落知多少。\n",
            "18\n",
            "2\n",
            "An apple a day.\n",
            "An Apple A Day.\n",
            "aN APPLE A DAY.\n",
            "AN APPLE A DAY.\n",
            "an apple a day.\n"
          ],
          "name": "stdout"
        }
      ]
    },
    {
      "cell_type": "code",
      "metadata": {
        "id": "a2AkgCdJJT2U",
        "colab_type": "code",
        "outputId": "7582b2c0-5104-4a94-9f9f-b4bda7ef35d6",
        "colab": {
          "base_uri": "https://localhost:8080/",
          "height": 173
        }
      },
      "source": [
        "s1='春眠不覺曉，處處聞啼鳥，夜來風雨聲，花落知多少。'\n",
        "print(s1.startswith('春眠'))\n",
        "print(s1.endswith('多少。'))\n",
        "\n",
        "\n",
        "s1='春眠不覺曉'\n",
        "print(s1.center(10))\n",
        "print(s1.rjust(10))\n",
        "print(s1.ljust(10))\n",
        "\n",
        "s1='123'\n",
        "print(s1.zfill(5))\n",
        "\n",
        "s1=' Hello,Mary.  '\n",
        "print(s1.strip())\n",
        "print(s1.lstrip(' H'))\n",
        "print(s1.rstrip(' .'))"
      ],
      "execution_count": 36,
      "outputs": [
        {
          "output_type": "stream",
          "text": [
            "True\n",
            "True\n",
            "  春眠不覺曉   \n",
            "     春眠不覺曉\n",
            "春眠不覺曉     \n",
            "00123\n",
            "Hello,Mary.\n",
            "ello,Mary.  \n",
            " Hello,Mary\n"
          ],
          "name": "stdout"
        }
      ]
    },
    {
      "cell_type": "code",
      "metadata": {
        "id": "olwDfR30S0xG",
        "colab_type": "code",
        "colab": {}
      },
      "source": [
        ""
      ],
      "execution_count": 0,
      "outputs": []
    }
  ]
}