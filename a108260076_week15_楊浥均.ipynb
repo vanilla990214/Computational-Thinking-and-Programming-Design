{
  "nbformat": 4,
  "nbformat_minor": 0,
  "metadata": {
    "colab": {
      "name": "a108260076 week15 楊浥均.ipynb",
      "provenance": [],
      "include_colab_link": true
    },
    "kernelspec": {
      "name": "python3",
      "display_name": "Python 3"
    }
  },
  "cells": [
    {
      "cell_type": "markdown",
      "metadata": {
        "id": "view-in-github",
        "colab_type": "text"
      },
      "source": [
        "<a href=\"https://colab.research.google.com/github/vanilla990214/Computational-Thinking-and-Programming-Design/blob/master/a108260076_week15_%E6%A5%8A%E6%B5%A5%E5%9D%87.ipynb\" target=\"_parent\"><img src=\"https://colab.research.google.com/assets/colab-badge.svg\" alt=\"Open In Colab\"/></a>"
      ]
    },
    {
      "cell_type": "code",
      "metadata": {
        "id": "TxSs2SHMhBx4",
        "colab_type": "code",
        "outputId": "1712ca8b-0d2a-463d-df77-ba6a59a996e0",
        "colab": {
          "base_uri": "https://localhost:8080/"
        }
      },
      "source": [
        "x = 5\n",
        "if x<10:\n",
        "    print(\"x is less than 10\")"
      ],
      "execution_count": 0,
      "outputs": [
        {
          "output_type": "stream",
          "text": [
            "x is less than 10\n"
          ],
          "name": "stdout"
        }
      ]
    },
    {
      "cell_type": "code",
      "metadata": {
        "id": "OT72zjuOldGF",
        "colab_type": "code",
        "outputId": "8d824811-a060-4708-f61a-33acaf38e1e7",
        "colab": {
          "base_uri": "https://localhost:8080/"
        }
      },
      "source": [
        "x = 5\n",
        "while x<10:\n",
        "    print(\"x is less than 10\")\n",
        "    print(\"I am still here\")\n",
        "    x = x+1\n",
        "print(\"Finished\")"
      ],
      "execution_count": 0,
      "outputs": [
        {
          "output_type": "stream",
          "text": [
            "x is less than 10\n",
            "I am still here\n",
            "x is less than 10\n",
            "I am still here\n",
            "x is less than 10\n",
            "I am still here\n",
            "x is less than 10\n",
            "I am still here\n",
            "x is less than 10\n",
            "I am still here\n",
            "Finished\n"
          ],
          "name": "stdout"
        }
      ]
    },
    {
      "cell_type": "code",
      "metadata": {
        "id": "0_tWcZAboF_i",
        "colab_type": "code",
        "colab": {
          "base_uri": "https://localhost:8080/",
          "height": 105
        },
        "outputId": "63ea2770-0592-4060-827b-ca2e23bcc6c6"
      },
      "source": [
        "x = 1\n",
        "while x < 5:\n",
        "  print(\"變數x是\", x)\n",
        "  x = x + 1\n",
        "print(\"Finished\")"
      ],
      "execution_count": 12,
      "outputs": [
        {
          "output_type": "stream",
          "text": [
            "變數x是 1\n",
            "變數x是 2\n",
            "變數x是 3\n",
            "變數x是 4\n",
            "Finished\n"
          ],
          "name": "stdout"
        }
      ]
    },
    {
      "cell_type": "code",
      "metadata": {
        "id": "re53lJikpfIA",
        "colab_type": "code",
        "colab": {
          "base_uri": "https://localhost:8080/",
          "height": 210
        },
        "outputId": "d1adb95a-e55a-4e7a-b0dd-de5f955935cd"
      },
      "source": [
        "x = 0\n",
        "while x < 10:\n",
        "  print(\"Hello\")\n",
        "  x=x+1\n",
        "print(\"Finished\")"
      ],
      "execution_count": 18,
      "outputs": [
        {
          "output_type": "stream",
          "text": [
            "Hello\n",
            "Hello\n",
            "Hello\n",
            "Hello\n",
            "Hello\n",
            "Hello\n",
            "Hello\n",
            "Hello\n",
            "Hello\n",
            "Hello\n",
            "Finished\n"
          ],
          "name": "stdout"
        }
      ]
    },
    {
      "cell_type": "code",
      "metadata": {
        "id": "XA3e1qTTq_VZ",
        "colab_type": "code",
        "colab": {
          "base_uri": "https://localhost:8080/",
          "height": 210
        },
        "outputId": "874514c9-e86b-4583-e11c-20f0d07641fc"
      },
      "source": [
        "x = 0\n",
        "while x<10:\n",
        "  x=x+1\n",
        "  left=10-x\n",
        "  print(\"This is\",x,\"times HELLO.\",\"You still have\",left,\"times.\")\n",
        "print(\"Finished\")"
      ],
      "execution_count": 21,
      "outputs": [
        {
          "output_type": "stream",
          "text": [
            "This is 1 times HELLO. You still have 9 times.\n",
            "This is 2 times HELLO. You still have 8 times.\n",
            "This is 3 times HELLO. You still have 7 times.\n",
            "This is 4 times HELLO. You still have 6 times.\n",
            "This is 5 times HELLO. You still have 5 times.\n",
            "This is 6 times HELLO. You still have 4 times.\n",
            "This is 7 times HELLO. You still have 3 times.\n",
            "This is 8 times HELLO. You still have 2 times.\n",
            "This is 9 times HELLO. You still have 1 times.\n",
            "This is 10 times HELLO. You still have 0 times.\n",
            "Finished\n"
          ],
          "name": "stdout"
        }
      ]
    },
    {
      "cell_type": "code",
      "metadata": {
        "id": "xfo52s5qtbYz",
        "colab_type": "code",
        "colab": {
          "base_uri": "https://localhost:8080/",
          "height": 210
        },
        "outputId": "b6fa5b1c-e0c9-4b52-fcc3-c7eab882d9b5"
      },
      "source": [
        "x=0\n",
        "sum=0\n",
        "while x<10:\n",
        "    x=x+1\n",
        "    sum=sum+x\n",
        "    print(\"Sum is\",sum)\n",
        "print(\"Finished\")"
      ],
      "execution_count": 23,
      "outputs": [
        {
          "output_type": "stream",
          "text": [
            "Sum is 1\n",
            "Sum is 3\n",
            "Sum is 6\n",
            "Sum is 10\n",
            "Sum is 15\n",
            "Sum is 21\n",
            "Sum is 28\n",
            "Sum is 36\n",
            "Sum is 45\n",
            "Sum is 55\n",
            "Finished\n"
          ],
          "name": "stdout"
        }
      ]
    },
    {
      "cell_type": "code",
      "metadata": {
        "colab_type": "code",
        "outputId": "ad79dbcb-edd7-409a-c443-e7580d3d25df",
        "id": "Ds4w5cfJwD9V",
        "colab": {
          "base_uri": "https://localhost:8080/",
          "height": 386
        }
      },
      "source": [
        "x=0\n",
        "sum=0\n",
        "while sum<=50:\n",
        "    x=x+1\n",
        "    sum=sum+x\n",
        "    print(\"x is\",x)\n",
        "    print(\"Sum is\",sum)\n",
        "print(\"Finished\")"
      ],
      "execution_count": 24,
      "outputs": [
        {
          "output_type": "stream",
          "text": [
            "x is 1\n",
            "Sum is 1\n",
            "x is 2\n",
            "Sum is 3\n",
            "x is 3\n",
            "Sum is 6\n",
            "x is 4\n",
            "Sum is 10\n",
            "x is 5\n",
            "Sum is 15\n",
            "x is 6\n",
            "Sum is 21\n",
            "x is 7\n",
            "Sum is 28\n",
            "x is 8\n",
            "Sum is 36\n",
            "x is 9\n",
            "Sum is 45\n",
            "x is 10\n",
            "Sum is 55\n",
            "Finished\n"
          ],
          "name": "stdout"
        }
      ]
    },
    {
      "cell_type": "code",
      "metadata": {
        "id": "M-0Pm0X7xWS2",
        "colab_type": "code",
        "colab": {
          "base_uri": "https://localhost:8080/",
          "height": 122
        },
        "outputId": "6743aee4-eb62-43a4-d516-330ec2cf3066"
      },
      "source": [
        "x=1\n",
        "sum=0\n",
        "while x<11:\n",
        "  sum=sum+x\n",
        "  x=x+2\n",
        "  print(\"sum is\",sum)\n",
        "print(\"Finished\")"
      ],
      "execution_count": 25,
      "outputs": [
        {
          "output_type": "stream",
          "text": [
            "sum is 1\n",
            "sum is 4\n",
            "sum is 9\n",
            "sum is 16\n",
            "sum is 25\n",
            "Finished\n"
          ],
          "name": "stdout"
        }
      ]
    },
    {
      "cell_type": "code",
      "metadata": {
        "id": "mK_O4gL8yamu",
        "colab_type": "code",
        "colab": {
          "base_uri": "https://localhost:8080/",
          "height": 281
        },
        "outputId": "d570ba2e-1440-4c29-8ceb-05163a1ece91"
      },
      "source": [
        "x=0\n",
        "sum=0\n",
        "while sum<=1000:\n",
        "  x += 1\n",
        "  sum += x*x\n",
        "  print(\"最小值為\",x)\n",
        "print(\"Finished\")"
      ],
      "execution_count": 30,
      "outputs": [
        {
          "output_type": "stream",
          "text": [
            "最小值為 1\n",
            "最小值為 2\n",
            "最小值為 3\n",
            "最小值為 4\n",
            "最小值為 5\n",
            "最小值為 6\n",
            "最小值為 7\n",
            "最小值為 8\n",
            "最小值為 9\n",
            "最小值為 10\n",
            "最小值為 11\n",
            "最小值為 12\n",
            "最小值為 13\n",
            "最小值為 14\n",
            "Finished\n"
          ],
          "name": "stdout"
        }
      ]
    }
  ]
}